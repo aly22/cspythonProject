{
 "cells": [
  {
   "cell_type": "markdown",
   "metadata": {},
   "source": [
    "# Profitable app\n",
    "\n",
    "- Our company builds apps that are free to download and nstall, and our main source of revenue consists of in-app ads. This means our revenue for any given app is mostly influenced by the number of users who use our app.\n",
    "- Analyzing data to help our developers understand what type of apps are likely to attract more users."
   ]
  },
  {
   "cell_type": "code",
   "execution_count": 1,
   "metadata": {},
   "outputs": [],
   "source": [
    "from csv import reader"
   ]
  },
  {
   "cell_type": "code",
   "execution_count": 2,
   "metadata": {},
   "outputs": [],
   "source": [
    "def explore_data(dataset, start, end, rows_and_columns=False):\n",
    "    dataset_slice = dataset[start:end]    \n",
    "    for row in dataset_slice:\n",
    "        print(row)\n",
    "        print('\\n') # adds a new (empty) line after each row\n",
    "\n",
    "    if rows_and_columns:\n",
    "        print('Number of rows:', len(dataset))\n",
    "        print('Number of columns:', len(dataset[0]))                    "
   ]
  },
  {
   "cell_type": "code",
   "execution_count": 3,
   "metadata": {},
   "outputs": [],
   "source": [
    "def open_file(path):\n",
    "    with open(path,encoding='UTF-8') as f:\n",
    "        read_f=reader(f)\n",
    "        data=list(read_f)\n",
    "        \n",
    "        return data"
   ]
  },
  {
   "cell_type": "code",
   "execution_count": 4,
   "metadata": {},
   "outputs": [],
   "source": [
    "ios=open_file('AppleStore.csv')\n",
    "android=open_file('googleplaystore.csv')\n",
    "ios_header=ios[0]\n",
    "ios=ios[1:]\n",
    "android_header=android[0]\n",
    "android=android[1:]"
   ]
  },
  {
   "cell_type": "code",
   "execution_count": 5,
   "metadata": {},
   "outputs": [
    {
     "name": "stdout",
     "output_type": "stream",
     "text": [
      "['App', 'Category', 'Rating', 'Reviews', 'Size', 'Installs', 'Type', 'Price', 'Content Rating', 'Genres', 'Last Updated', 'Current Ver', 'Android Ver']\n",
      "\n",
      "\n",
      "['Photo Editor & Candy Camera & Grid & ScrapBook', 'ART_AND_DESIGN', '4.1', '159', '19M', '10,000+', 'Free', '0', 'Everyone', 'Art & Design', 'January 7, 2018', '1.0.0', '4.0.3 and up']\n",
      "\n",
      "\n",
      "['Coloring book moana', 'ART_AND_DESIGN', '3.9', '967', '14M', '500,000+', 'Free', '0', 'Everyone', 'Art & Design;Pretend Play', 'January 15, 2018', '2.0.0', '4.0.3 and up']\n",
      "\n",
      "\n",
      "Number of rows: 10841\n",
      "Number of columns: 13\n",
      "\n",
      "\n",
      "['id', 'track_name', 'size_bytes', 'currency', 'price', 'rating_count_tot', 'rating_count_ver', 'user_rating', 'user_rating_ver', 'ver', 'cont_rating', 'prime_genre', 'sup_devices.num', 'ipadSc_urls.num', 'lang.num', 'vpp_lic']\n",
      "\n",
      "\n",
      "['284882215', 'Facebook', '389879808', 'USD', '0.0', '2974676', '212', '3.5', '3.5', '95.0', '4+', 'Social Networking', '37', '1', '29', '1']\n",
      "\n",
      "\n",
      "['389801252', 'Instagram', '113954816', 'USD', '0.0', '2161558', '1289', '4.5', '4.0', '10.23', '12+', 'Photo & Video', '37', '0', '29', '1']\n",
      "\n",
      "\n",
      "Number of rows: 7197\n",
      "Number of columns: 16\n"
     ]
    }
   ],
   "source": [
    "print(android_header)\n",
    "print('\\n')\n",
    "explore_data(android,0,2,True)\n",
    "print('\\n')\n",
    "print(ios_header)\n",
    "print('\\n')\n",
    "explore_data(ios,0,2,True)"
   ]
  },
  {
   "cell_type": "markdown",
   "metadata": {},
   "source": [
    "## Data to work with:\n",
    "- Android: installs, genres?, category, price\n",
    "- IoS: There are not so many columns to help. Price, rating_count_tot, prime_genre\n"
   ]
  },
  {
   "cell_type": "code",
   "execution_count": 6,
   "metadata": {},
   "outputs": [
    {
     "name": "stdout",
     "output_type": "stream",
     "text": [
      "['App', 'Category', 'Rating', 'Reviews', 'Size', 'Installs', 'Type', 'Price', 'Content Rating', 'Genres', 'Last Updated', 'Current Ver', 'Android Ver']\n",
      "\n",
      "\n",
      "['Life Made WI-Fi Touchscreen Photo Frame', '1.9', '19', '3.0M', '1,000+', 'Free', '0', 'Everyone', '', 'February 11, 2018', '1.0.19', '4.0 and up']\n"
     ]
    }
   ],
   "source": [
    "print(android_header)\n",
    "print('\\n')\n",
    "print(android[10472])\n",
    "del android[10472]"
   ]
  },
  {
   "cell_type": "markdown",
   "metadata": {},
   "source": [
    "The play store database contains duplicate items"
   ]
  },
  {
   "cell_type": "code",
   "execution_count": 7,
   "metadata": {},
   "outputs": [
    {
     "name": "stdout",
     "output_type": "stream",
     "text": [
      "['Facebook', 'SOCIAL', '4.1', '78158306', 'Varies with device', '1,000,000,000+', 'Free', '0', 'Teen', 'Social', 'August 3, 2018', 'Varies with device', 'Varies with device']\n",
      "['Twitter', 'NEWS_AND_MAGAZINES', '4.3', '11667403', 'Varies with device', '500,000,000+', 'Free', '0', 'Mature 17+', 'News & Magazines', 'August 6, 2018', 'Varies with device', 'Varies with device']\n",
      "['Twitter', 'NEWS_AND_MAGAZINES', '4.3', '11667403', 'Varies with device', '500,000,000+', 'Free', '0', 'Mature 17+', 'News & Magazines', 'August 6, 2018', 'Varies with device', 'Varies with device']\n",
      "['Facebook', 'SOCIAL', '4.1', '78128208', 'Varies with device', '1,000,000,000+', 'Free', '0', 'Teen', 'Social', 'August 3, 2018', 'Varies with device', 'Varies with device']\n",
      "['Twitter', 'NEWS_AND_MAGAZINES', '4.3', '11657972', 'Varies with device', '500,000,000+', 'Free', '0', 'Mature 17+', 'News & Magazines', 'July 30, 2018', 'Varies with device', 'Varies with device']\n"
     ]
    }
   ],
   "source": [
    "for app in android:\n",
    "    name=app[0]\n",
    "    if name=='Facebook'or name=='Twitter':\n",
    "        print(app)"
   ]
  },
  {
   "cell_type": "code",
   "execution_count": 8,
   "metadata": {},
   "outputs": [
    {
     "name": "stdout",
     "output_type": "stream",
     "text": [
      "The number of duplicate apps 1181\n",
      "Some examples of duplicate apps:\n",
      " ['Quick PDF Scanner + OCR FREE', 'Box', 'Google My Business', 'ZOOM Cloud Meetings']\n"
     ]
    }
   ],
   "source": [
    "unique_apps=[]\n",
    "duplicate_apps=[]\n",
    "for app in android:\n",
    "    name=app[0]\n",
    "    if name in unique_apps:\n",
    "        duplicate_apps.append(name)\n",
    "    else:\n",
    "        unique_apps.append(name)\n",
    "print(\"The number of duplicate apps\",len(duplicate_apps))\n",
    "print(\"Some examples of duplicate apps:\\n\",duplicate_apps[:4])"
   ]
  },
  {
   "cell_type": "markdown",
   "metadata": {},
   "source": [
    "I won't remove duplicates randomly, I will remove them based on the review count, II will keep the apps with the highest number of ratings because this means that app version is the mmost up-to-date. I can't on anything else (on the current version I can't)."
   ]
  },
  {
   "cell_type": "code",
   "execution_count": 9,
   "metadata": {
    "scrolled": false
   },
   "outputs": [
    {
     "data": {
      "text/plain": [
       "9659"
      ]
     },
     "execution_count": 9,
     "metadata": {},
     "output_type": "execute_result"
    }
   ],
   "source": [
    "name_and_max_reviews={}\n",
    "for app in android:\n",
    "    rating_counts=int(app[3])\n",
    "    name=app[0]\n",
    "    \n",
    "    # slack comes in with 50000 reviews\n",
    "    # it's not in the dictionary so the dict gets updated\n",
    "    # slack comes again with 51000 reviews the if statement evqluetas to true\n",
    "    # so the dict gets updated again\n",
    "    # slack comes in the third time but now with only 50500 reviews both \n",
    "    # statements evaluate to false so the dict doesnt get updated. so the name\n",
    "    # gets thrown away\n",
    "    if name in name_and_max_reviews and name_and_max_reviews[name]<rating_counts:\n",
    "        name_and_max_reviews[name]=rating_counts\n",
    "        \n",
    "    elif name not in name_and_max_reviews:\n",
    "        name_and_max_reviews[name]=rating_counts\n",
    "len(name_and_max_reviews)\n"
   ]
  },
  {
   "cell_type": "code",
   "execution_count": 10,
   "metadata": {},
   "outputs": [
    {
     "data": {
      "text/plain": [
       "9659"
      ]
     },
     "execution_count": 10,
     "metadata": {},
     "output_type": "execute_result"
    }
   ],
   "source": [
    "android_clean=[]\n",
    "already_added=[]\n",
    "for app in android:\n",
    "    name=app[0]\n",
    "    reviews=int(app[3])\n",
    "    \n",
    "    if reviews==name_and_max_reviews[name] and name not in already_added:\n",
    "        android_clean.append(app)\n",
    "        already_added.append(name)\n",
    "len(android_clean)"
   ]
  },
  {
   "cell_type": "code",
   "execution_count": 11,
   "metadata": {
    "scrolled": false
   },
   "outputs": [],
   "source": [
    "def char_check(string)->bool:\n",
    "    cnt=0\n",
    "    for c in string:\n",
    "        cnt+=ord(c)>127\n",
    "#         print(c,ord(c))\n",
    "        if cnt>3:            \n",
    "            return False\n",
    "    return True\n",
    "# print(char_check('Instachat 😜😜😜'))\n",
    "# cnt=0\n",
    "# print(cnt+True+True)"
   ]
  },
  {
   "cell_type": "code",
   "execution_count": 12,
   "metadata": {
    "scrolled": false
   },
   "outputs": [
    {
     "data": {
      "text/plain": [
       "6183"
      ]
     },
     "execution_count": 12,
     "metadata": {},
     "output_type": "execute_result"
    }
   ],
   "source": [
    "clean_ios_data=[]\n",
    "for app in ios:\n",
    "    if char_check(app[1]):\n",
    "        clean_ios_data.append(app)\n",
    "len(clean_ios_data)        "
   ]
  },
  {
   "cell_type": "code",
   "execution_count": 13,
   "metadata": {},
   "outputs": [
    {
     "data": {
      "text/plain": [
       "9614"
      ]
     },
     "execution_count": 13,
     "metadata": {},
     "output_type": "execute_result"
    }
   ],
   "source": [
    "clean_android_data=[]\n",
    "for app in android_clean:\n",
    "    if char_check(app[0]):\n",
    "        clean_android_data.append(app)\n",
    "len(clean_android_data)"
   ]
  },
  {
   "cell_type": "code",
   "execution_count": 14,
   "metadata": {},
   "outputs": [
    {
     "data": {
      "text/plain": [
       "969"
      ]
     },
     "execution_count": 14,
     "metadata": {},
     "output_type": "execute_result"
    }
   ],
   "source": [
    "(len(ios)-len(clean_ios_data))-(len(android_clean)-len(clean_android_data))"
   ]
  },
  {
   "cell_type": "markdown",
   "metadata": {},
   "source": [
    "We can see that the android data set has far less non english apps (969\n",
    "less). Even though the android data set contains more items than the ios."
   ]
  },
  {
   "cell_type": "code",
   "execution_count": 15,
   "metadata": {},
   "outputs": [
    {
     "name": "stdout",
     "output_type": "stream",
     "text": [
      "3222\n",
      "8864\n"
     ]
    }
   ],
   "source": [
    "relevant_android_data=[]\n",
    "relevant_ios_data=[]\n",
    "for app in clean_android_data:\n",
    "    if app[7]=='0':\n",
    "        relevant_android_data.append(app)\n",
    "for app in clean_ios_data:\n",
    "    if float(app[4])==0:\n",
    "        relevant_ios_data.append(app)\n",
    "print(len(relevant_ios_data))\n",
    "print(len(relevant_android_data))"
   ]
  },
  {
   "cell_type": "markdown",
   "metadata": {},
   "source": [
    "We can see that the app store contains a lot more non-free apps, than the android"
   ]
  },
  {
   "cell_type": "code",
   "execution_count": 16,
   "metadata": {
    "scrolled": false
   },
   "outputs": [
    {
     "name": "stdout",
     "output_type": "stream",
     "text": [
      "['id', 'track_name', 'size_bytes', 'currency', 'price', 'rating_count_tot', 'rating_count_ver', 'user_rating', 'user_rating_ver', 'ver', 'cont_rating', 'prime_genre', 'sup_devices.num', 'ipadSc_urls.num', 'lang.num', 'vpp_lic']\n",
      "\n",
      "\n",
      "['1178454060', 'Mannequin Challenge', '59572224', 'USD', '0.0', '105', '58', '4.0', '4.5', '1.0.1', '4+', 'Games', '38', '5', '1', '1']\n",
      "\n",
      "\n",
      "['1089824278', 'VR Roller Coaster', '240964608', 'USD', '0.0', '67', '44', '3.5', '4.0', '0.81', '4+', 'Games', '38', '0', '1', '1']\n",
      "\n",
      "\n",
      "\n",
      "\n",
      "2\n",
      "3220\n"
     ]
    }
   ],
   "source": [
    "print(ios_header)\n",
    "print('\\n')\n",
    "unique_apps_ios=[]\n",
    "duplicate_apps_ios=[]\n",
    "for app in relevant_ios_data:\n",
    "    if app[1] in unique_apps_ios:\n",
    "        duplicate_apps_ios.append(app[1])\n",
    "        print(app)\n",
    "        print('\\n')\n",
    "    else:\n",
    "        unique_apps_ios.append(app[1])\n",
    "print('\\n')\n",
    "print(len(duplicate_apps_ios))\n",
    "print(len(unique_apps_ios))\n"
   ]
  },
  {
   "cell_type": "markdown",
   "metadata": {},
   "source": [
    "We can see that the relevant apps ios contains only 2 duplicate apps, so we aren't going to go through the same process for the sake of just 2 apps. (maybe if i wrote a function. Also these 2 apps have ~100 reviews)."
   ]
  },
  {
   "cell_type": "markdown",
   "metadata": {},
   "source": [
    "To minimize risks and overhead, our validation strategy for an app idea is comprised of three steps:\n",
    "\n",
    "1. Build a minimal Android version of the app, and add it to Google Play.\n",
    "2. If the app has a good response from users, we develop it further.\n",
    "3. If the app is profitable after six months, we build an iOS version of the app and add it to the App Store.\n"
   ]
  },
  {
   "cell_type": "code",
   "execution_count": 50,
   "metadata": {},
   "outputs": [],
   "source": [
    "def freq_table(lst,idx):\n",
    "    freq_table={}\n",
    "    for app in lst:\n",
    "        genre=app[idx]\n",
    "        if genre in freq_table:\n",
    "            freq_table[genre]+=1\n",
    "        else:\n",
    "            freq_table[genre]=1\n",
    "    return freq_table"
   ]
  },
  {
   "cell_type": "code",
   "execution_count": 55,
   "metadata": {},
   "outputs": [],
   "source": [
    "def show_percent(freq_table)->dict:\n",
    "\n",
    "    d={}\n",
    "    \n",
    "    total_number_of_apps=0\n",
    "    for i in freq_table:\n",
    "        total_number_of_apps+=freq_table[i]\n",
    "    for i in freq_table:\n",
    "        d[i]=f'{float(freq_table[i]/total_number_of_apps*100):.2f}'\n",
    "        \n",
    "    return d"
   ]
  },
  {
   "cell_type": "code",
   "execution_count": 61,
   "metadata": {},
   "outputs": [],
   "source": [
    "freq_table_android_cat=freq_table(relevant_android_data,1)\n",
    "freq_table_android=freq_table(relevant_android_data,-4)\n",
    "freq_table_ios=freq_table(relevant_ios_data,-5)\n",
    "ios_percs=show_percent(freq_table_ios)\n",
    "android_percs=show_percent(freq_table_android)\n",
    "android_cat_percs=show_percent(freq_table_android_cat)"
   ]
  },
  {
   "cell_type": "code",
   "execution_count": 93,
   "metadata": {},
   "outputs": [],
   "source": [
    "def sorting(dic)->dict:\n",
    "    d={}\n",
    "    \n",
    "    lst=sorted(dic,key=lambda x:(-float(dic[x]),x))\n",
    "    percs=0\n",
    "    for i in lst:\n",
    "        percentage=float(dic[i])\n",
    "        if percentage<0.17:\n",
    "            percs+=percentage\n",
    "        else:\n",
    "            d[i]=dic[i]\n",
    "#     if percs>0:\n",
    "#         d['Other']=f\"{float(percs):.2f}\"\n",
    "    return d\n",
    "sorted_ios_percentages_genres=(sorting(ios_percs))\n",
    "sorted_android_percentages_genres=(sorting(android_percs))\n",
    "sorted_android_percentages_cats=(sorting(android_cat_percs))"
   ]
  },
  {
   "cell_type": "code",
   "execution_count": 42,
   "metadata": {},
   "outputs": [],
   "source": [
    "# weather = {'Reykjavik': {'temp':60, 'condition': 'rainy'},\n",
    "# 'Buenos Aires': {'temp': 55, 'condition': 'cloudy'},\n",
    "# 'Cairo': {'temp': 96, 'condition': 'sunny'},\n",
    "# 'Berlin': {'temp': 89, 'condition': 'sunny'},\n",
    "# 'Caloocan': {'temp': 78, 'condition': 'sunny'}}\n",
    "# sorted(weather, key=lambda w: (w, weather[w]['temp']))"
   ]
  },
  {
   "cell_type": "code",
   "execution_count": 43,
   "metadata": {},
   "outputs": [
    {
     "name": "stdout",
     "output_type": "stream",
     "text": [
      "{'Tools': '8.45', 'Entertainment': '6.07', 'Education': '5.35', 'Business': '4.59', 'Lifestyle': '3.89', 'Productivity': '3.89', 'Finance': '3.70', 'Medical': '3.53', 'Sports': '3.46', 'Personalization': '3.32', 'Communication': '3.24', 'Action': '3.10', 'Health & Fitness': '3.08', 'Photography': '2.94', 'News & Magazines': '2.80', 'Social': '2.66', 'Travel & Local': '2.32', 'Shopping': '2.25', 'Books & Reference': '2.14', 'Simulation': '2.04', 'Dating': '1.86', 'Arcade': '1.85', 'Video Players & Editors': '1.77', 'Casual': '1.76', 'Maps & Navigation': '1.40', 'Food & Drink': '1.24', 'Puzzle': '1.13', 'Racing': '0.99', 'Libraries & Demo': '0.94', 'Role Playing': '0.94', 'Auto & Vehicles': '0.93', 'Strategy': '0.91', 'House & Home': '0.82', 'Weather': '0.80', 'Events': '0.71', 'Adventure': '0.68', 'Comics': '0.61', 'Art & Design': '0.60', 'Beauty': '0.60', 'Parenting': '0.50', 'Card': '0.45', 'Casino': '0.43', 'Trivia': '0.42', 'Educational;Education': '0.39', 'Board': '0.38', 'Educational': '0.37', 'Education;Education': '0.34', 'Word': '0.26', 'Casual;Pretend Play': '0.24', 'Music': '0.20', 'Entertainment;Music & Video': '0.17', 'Puzzle;Brain Games': '0.17', 'Racing;Action & Adventure': '0.17', 'Other': '2.08'}\n",
      "\n",
      "\n",
      "{'FAMILY': '18.91', 'GAME': '9.72', 'TOOLS': '8.46', 'BUSINESS': '4.59', 'LIFESTYLE': '3.90', 'PRODUCTIVITY': '3.89', 'FINANCE': '3.70', 'MEDICAL': '3.53', 'SPORTS': '3.40', 'PERSONALIZATION': '3.32', 'COMMUNICATION': '3.24', 'HEALTH_AND_FITNESS': '3.08', 'PHOTOGRAPHY': '2.94', 'NEWS_AND_MAGAZINES': '2.80', 'SOCIAL': '2.66', 'TRAVEL_AND_LOCAL': '2.34', 'SHOPPING': '2.25', 'BOOKS_AND_REFERENCE': '2.14', 'DATING': '1.86', 'VIDEO_PLAYERS': '1.79', 'MAPS_AND_NAVIGATION': '1.40', 'FOOD_AND_DRINK': '1.24', 'EDUCATION': '1.16', 'ENTERTAINMENT': '0.96', 'LIBRARIES_AND_DEMO': '0.94', 'AUTO_AND_VEHICLES': '0.93', 'HOUSE_AND_HOME': '0.82', 'WEATHER': '0.80', 'EVENTS': '0.71', 'PARENTING': '0.65', 'ART_AND_DESIGN': '0.64', 'COMICS': '0.62', 'BEAUTY': '0.60'}\n",
      "\n",
      "\n",
      "{'Games': '58.16', 'Entertainment': '7.88', 'Photo & Video': '4.97', 'Education': '3.66', 'Social Networking': '3.29', 'Shopping': '2.61', 'Utilities': '2.51', 'Sports': '2.14', 'Music': '2.05', 'Health & Fitness': '2.02', 'Productivity': '1.74', 'Lifestyle': '1.58', 'News': '1.33', 'Travel': '1.24', 'Finance': '1.12', 'Weather': '0.87', 'Food & Drink': '0.81', 'Reference': '0.56', 'Business': '0.53', 'Book': '0.43', 'Medical': '0.19', 'Navigation': '0.19', 'Other': '0.12'}\n"
     ]
    }
   ],
   "source": [
    "print(sorted_android_percentages_genres)\n",
    "print('\\n')\n",
    "print(sorted_android_percentages_cats)\n",
    "print('\\n')\n",
    "print(sorted_ios_percentages_genres)"
   ]
  },
  {
   "cell_type": "markdown",
   "metadata": {},
   "source": [
    "## App store\n",
    "\n",
    "- Games is the most common genre, and Catalogs is the runner up\n",
    "- I can see that entartaninment has a huge share in the market. Apps that are designed for practical purposes are way less. But this doesn't mean that games have the highest demand.\n",
    "- Sadly I can not recommend an app profile based on my findings so far.\n",
    "\n",
    "## Google play store\n",
    "\n",
    "- For the sake of the bigger picture I am going to analyze only the finidings on the categories column\n",
    "- The most common genre is Family which contains just games for kids, but here I can see more practical purpose apps than in the app store.\n",
    "- Sadly I can not recommend an app profile based on my findings so far."
   ]
  },
  {
   "cell_type": "code",
   "execution_count": 62,
   "metadata": {},
   "outputs": [],
   "source": [
    "#  1 5 android_header\n",
    "# -5 5 ios_header"
   ]
  },
  {
   "cell_type": "code",
   "execution_count": 63,
   "metadata": {},
   "outputs": [],
   "source": [
    "tot_ratings_by_genre_ios={}\n",
    "for key in freq_table_ios:\n",
    "    for app in relevant_ios_data:\n",
    "        if key==app[-5]:\n",
    "            if key in tot_ratings_by_genre_ios:\n",
    "                tot_ratings_by_genre_ios[key]+=int(app[5])\n",
    "            else:\n",
    "                tot_ratings_by_genre_ios[key]=int(app[5])\n",
    "            \n",
    "    tot_ratings_by_genre_ios[key]=int(tot_ratings_by_genre_ios[key]/freq_table_ios[key])"
   ]
  },
  {
   "cell_type": "code",
   "execution_count": 64,
   "metadata": {},
   "outputs": [
    {
     "data": {
      "text/plain": [
       "{'Navigation': 86090,\n",
       " 'Reference': 74942,\n",
       " 'Social Networking': 71548,\n",
       " 'Music': 57326,\n",
       " 'Weather': 52279,\n",
       " 'Book': 39758,\n",
       " 'Food & Drink': 33333,\n",
       " 'Finance': 31467,\n",
       " 'Photo & Video': 28441,\n",
       " 'Travel': 28243,\n",
       " 'Shopping': 26919,\n",
       " 'Health & Fitness': 23298,\n",
       " 'Sports': 23008,\n",
       " 'Games': 22788,\n",
       " 'News': 21248,\n",
       " 'Productivity': 21028,\n",
       " 'Utilities': 18684,\n",
       " 'Lifestyle': 16485,\n",
       " 'Entertainment': 14029,\n",
       " 'Business': 7491,\n",
       " 'Education': 7003,\n",
       " 'Catalogs': 4004,\n",
       " 'Medical': 612}"
      ]
     },
     "execution_count": 64,
     "metadata": {},
     "output_type": "execute_result"
    }
   ],
   "source": [
    "sorting(tot_ratings_by_genre_ios)"
   ]
  },
  {
   "cell_type": "markdown",
   "metadata": {},
   "source": [
    "I don't even know why the ios is the benchmark, but every category has a a few apps that excel in reviews. It would be nicer to view the first quartile or the median of the reviews, I'm not gonna do that, for now. Based on the findings so far I think the games category seem to be a promising opportunity to make an app in, because of the amount of games and their avg reviews. But et's see this avg multiplied by the percentage."
   ]
  },
  {
   "cell_type": "code",
   "execution_count": 94,
   "metadata": {},
   "outputs": [
    {
     "data": {
      "text/plain": [
       "{'Games': 13253.500799999998,\n",
       " 'Entertainment': 1105.4852,\n",
       " 'Photo & Video': 1413.5176999999999,\n",
       " 'Education': 256.3098,\n",
       " 'Social Networking': 2353.9292,\n",
       " 'Shopping': 702.5858999999999,\n",
       " 'Utilities': 468.9684,\n",
       " 'Sports': 492.37120000000004,\n",
       " 'Music': 1175.183,\n",
       " 'Health & Fitness': 470.6196,\n",
       " 'Productivity': 365.8872,\n",
       " 'Lifestyle': 260.463,\n",
       " 'News': 282.5984,\n",
       " 'Travel': 350.2132,\n",
       " 'Finance': 352.4304,\n",
       " 'Weather': 454.82730000000004,\n",
       " 'Food & Drink': 269.99730000000005,\n",
       " 'Reference': 419.6752,\n",
       " 'Business': 39.7023,\n",
       " 'Book': 170.9594,\n",
       " 'Medical': 1.1628,\n",
       " 'Navigation': 163.571}"
      ]
     },
     "execution_count": 94,
     "metadata": {},
     "output_type": "execute_result"
    }
   ],
   "source": [
    "tot_ratings_by_genre_ios_percs_multi_reviews={}\n",
    "for key in sorted_ios_percentages_genres:\n",
    "    tot_ratings_by_genre_ios_percs_multi_reviews[key]=tot_ratings_by_genre_ios[key]*float(sorted_ios_percentages_genres[key])/100\n",
    "tot_ratings_by_genre_ios_percs_multi_reviews"
   ]
  },
  {
   "cell_type": "markdown",
   "metadata": {},
   "source": [
    "We can see by that that games excel in reviews*distribution"
   ]
  },
  {
   "cell_type": "code",
   "execution_count": 87,
   "metadata": {
    "scrolled": false
   },
   "outputs": [],
   "source": [
    "tot_ratings_by_genre_android={}\n",
    "for key in freq_table_android_cat:\n",
    "    \n",
    "    for app in relevant_android_data:\n",
    "        \n",
    "        if key==app[1]:\n",
    "            installs=app[5].replace(',','')\n",
    "            installs=int(installs.replace('+',''))\n",
    "            if key in tot_ratings_by_genre_android:\n",
    "                \n",
    "                tot_ratings_by_genre_android[key]+=installs\n",
    "                \n",
    "            else:\n",
    "                tot_ratings_by_genre_android[key]=installs\n",
    "    \n",
    "    tot_ratings_by_genre_android[key]=int(tot_ratings_by_genre_android[key]/freq_table_android_cat[key])"
   ]
  },
  {
   "cell_type": "code",
   "execution_count": 88,
   "metadata": {},
   "outputs": [
    {
     "data": {
      "text/plain": [
       "{'COMMUNICATION': 38456119,\n",
       " 'VIDEO_PLAYERS': 24727872,\n",
       " 'SOCIAL': 23253652,\n",
       " 'PHOTOGRAPHY': 17840110,\n",
       " 'PRODUCTIVITY': 16787331,\n",
       " 'GAME': 15588015,\n",
       " 'TRAVEL_AND_LOCAL': 13984077,\n",
       " 'ENTERTAINMENT': 11640705,\n",
       " 'TOOLS': 10801391,\n",
       " 'NEWS_AND_MAGAZINES': 9549178,\n",
       " 'BOOKS_AND_REFERENCE': 8767811,\n",
       " 'SHOPPING': 7036877,\n",
       " 'PERSONALIZATION': 5201482,\n",
       " 'WEATHER': 5074486,\n",
       " 'HEALTH_AND_FITNESS': 4188821,\n",
       " 'MAPS_AND_NAVIGATION': 4056941,\n",
       " 'FAMILY': 3695641,\n",
       " 'SPORTS': 3638640,\n",
       " 'ART_AND_DESIGN': 1986335,\n",
       " 'FOOD_AND_DRINK': 1924897,\n",
       " 'EDUCATION': 1833495,\n",
       " 'BUSINESS': 1712290,\n",
       " 'LIFESTYLE': 1437816,\n",
       " 'FINANCE': 1387692,\n",
       " 'HOUSE_AND_HOME': 1331540,\n",
       " 'DATING': 854028,\n",
       " 'COMICS': 817657,\n",
       " 'AUTO_AND_VEHICLES': 647317,\n",
       " 'LIBRARIES_AND_DEMO': 638503,\n",
       " 'PARENTING': 542603,\n",
       " 'BEAUTY': 513151,\n",
       " 'EVENTS': 253542,\n",
       " 'MEDICAL': 120550}"
      ]
     },
     "execution_count": 88,
     "metadata": {},
     "output_type": "execute_result"
    }
   ],
   "source": [
    "sorting(tot_ratings_by_genre_android)"
   ]
  },
  {
   "cell_type": "markdown",
   "metadata": {},
   "source": [
    "Based on my findings I can highly recommend games because they alone have 15.6 mill installs on average if we take the percentages and of the whole bunchand multiply it with the values of the upper dict, we get this: however based on the first quartile or the median should we judge."
   ]
  },
  {
   "cell_type": "code",
   "execution_count": 89,
   "metadata": {},
   "outputs": [],
   "source": [
    "tot_ratings_by_genre_android_percentages_multi_installs={}\n",
    "for key in tot_ratings_by_genre_android:\n",
    "    tot_ratings_by_genre_android_percentages_multi_installs[key]=tot_ratings_by_genre_android[key]*float(sorted_android_percentages_cats[key])/100"
   ]
  },
  {
   "cell_type": "code",
   "execution_count": 90,
   "metadata": {},
   "outputs": [
    {
     "data": {
      "text/plain": [
       "{'GAME': 1515155.0580000002,\n",
       " 'COMMUNICATION': 1245978.2556,\n",
       " 'TOOLS': 913797.6786000001,\n",
       " 'FAMILY': 698845.7131,\n",
       " 'PRODUCTIVITY': 653027.1759,\n",
       " 'SOCIAL': 618547.1432,\n",
       " 'PHOTOGRAPHY': 524499.2339999999,\n",
       " 'VIDEO_PLAYERS': 442628.90880000003,\n",
       " 'TRAVEL_AND_LOCAL': 327227.4018,\n",
       " 'NEWS_AND_MAGAZINES': 267376.984,\n",
       " 'BOOKS_AND_REFERENCE': 187631.15540000002,\n",
       " 'PERSONALIZATION': 172689.20239999998,\n",
       " 'SHOPPING': 158329.7325,\n",
       " 'HEALTH_AND_FITNESS': 129015.6868,\n",
       " 'SPORTS': 123713.76,\n",
       " 'ENTERTAINMENT': 111750.76799999998,\n",
       " 'BUSINESS': 78594.11099999999,\n",
       " 'MAPS_AND_NAVIGATION': 56797.17399999999,\n",
       " 'LIFESTYLE': 56074.82399999999,\n",
       " 'FINANCE': 51344.60400000001,\n",
       " 'WEATHER': 40595.888000000006,\n",
       " 'FOOD_AND_DRINK': 23868.7228,\n",
       " 'EDUCATION': 21268.541999999998,\n",
       " 'DATING': 15884.9208,\n",
       " 'ART_AND_DESIGN': 12712.544000000002,\n",
       " 'HOUSE_AND_HOME': 10918.628,\n",
       " 'AUTO_AND_VEHICLES': 6020.048100000001,\n",
       " 'LIBRARIES_AND_DEMO': 6001.928199999999,\n",
       " 'COMICS': 5069.4734,\n",
       " 'MEDICAL': 4255.415,\n",
       " 'PARENTING': 3526.9195,\n",
       " 'BEAUTY': 3078.906,\n",
       " 'EVENTS': 1800.1481999999999}"
      ]
     },
     "execution_count": 90,
     "metadata": {},
     "output_type": "execute_result"
    }
   ],
   "source": [
    "sorting(tot_ratings_by_genre_android_percentages_multi_installs)"
   ]
  },
  {
   "cell_type": "code",
   "execution_count": null,
   "metadata": {},
   "outputs": [],
   "source": []
  }
 ],
 "metadata": {
  "kernelspec": {
   "display_name": "Python 3",
   "language": "python",
   "name": "python3"
  },
  "language_info": {
   "codemirror_mode": {
    "name": "ipython",
    "version": 3
   },
   "file_extension": ".py",
   "mimetype": "text/x-python",
   "name": "python",
   "nbconvert_exporter": "python",
   "pygments_lexer": "ipython3",
   "version": "3.8.2"
  }
 },
 "nbformat": 4,
 "nbformat_minor": 2
}
