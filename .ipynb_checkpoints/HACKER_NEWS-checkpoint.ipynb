{
 "cells": [
  {
   "cell_type": "markdown",
   "metadata": {
    "collapsed": true
   },
   "source": [
    "# Exploring hacker news posts\n",
    "We'll compare these two types of posts to determine the following:\n",
    "\n",
    "- Do Ask HN or Show HN receive more comments on average?\n",
    "- Do posts created at a certain time receive more comments on average?\n",
    " "
   ]
  },
  {
   "cell_type": "code",
   "execution_count": 36,
   "metadata": {},
   "outputs": [],
   "source": [
    "from csv import reader\n",
    "import datetime as dt"
   ]
  },
  {
   "cell_type": "code",
   "execution_count": 2,
   "metadata": {},
   "outputs": [],
   "source": [
    "def read_csv(path):\n",
    "    with open(path) as f:\n",
    "        read_f=reader(f)\n",
    "        file_list=list(read_f)\n",
    "        return file_list"
   ]
  },
  {
   "cell_type": "code",
   "execution_count": 3,
   "metadata": {},
   "outputs": [],
   "source": [
    "path=\"hacker_news.csv\""
   ]
  },
  {
   "cell_type": "code",
   "execution_count": 4,
   "metadata": {},
   "outputs": [],
   "source": [
    "hn=read_csv(path)"
   ]
  },
  {
   "cell_type": "code",
   "execution_count": 5,
   "metadata": {},
   "outputs": [
    {
     "data": {
      "text/plain": [
       "[['id', 'title', 'url', 'num_points', 'num_comments', 'author', 'created_at'],\n",
       " ['12224879',\n",
       "  'Interactive Dynamic Video',\n",
       "  'http://www.interactivedynamicvideo.com/',\n",
       "  '386',\n",
       "  '52',\n",
       "  'ne0phyte',\n",
       "  '8/4/2016 11:52'],\n",
       " ['10975351',\n",
       "  'How to Use Open Source and Shut the Fuck Up at the Same Time',\n",
       "  'http://hueniverse.com/2016/01/26/how-to-use-open-source-and-shut-the-fuck-up-at-the-same-time/',\n",
       "  '39',\n",
       "  '10',\n",
       "  'josep2',\n",
       "  '1/26/2016 19:30'],\n",
       " ['11964716',\n",
       "  \"Florida DJs May Face Felony for April Fools' Water Joke\",\n",
       "  'http://www.thewire.com/entertainment/2013/04/florida-djs-april-fools-water-joke/63798/',\n",
       "  '2',\n",
       "  '1',\n",
       "  'vezycash',\n",
       "  '6/23/2016 22:20'],\n",
       " ['11919867',\n",
       "  'Technology ventures: From Idea to Enterprise',\n",
       "  'https://www.amazon.com/Technology-Ventures-Enterprise-Thomas-Byers/dp/0073523429',\n",
       "  '3',\n",
       "  '1',\n",
       "  'hswarna',\n",
       "  '6/17/2016 0:01']]"
      ]
     },
     "execution_count": 5,
     "metadata": {},
     "output_type": "execute_result"
    }
   ],
   "source": [
    "hn[:5]"
   ]
  },
  {
   "cell_type": "code",
   "execution_count": 6,
   "metadata": {},
   "outputs": [],
   "source": [
    "headers=hn[:1]\n",
    "hn=hn[1:]"
   ]
  },
  {
   "cell_type": "code",
   "execution_count": 7,
   "metadata": {},
   "outputs": [
    {
     "data": {
      "text/plain": [
       "[['12224879',\n",
       "  'Interactive Dynamic Video',\n",
       "  'http://www.interactivedynamicvideo.com/',\n",
       "  '386',\n",
       "  '52',\n",
       "  'ne0phyte',\n",
       "  '8/4/2016 11:52'],\n",
       " ['10975351',\n",
       "  'How to Use Open Source and Shut the Fuck Up at the Same Time',\n",
       "  'http://hueniverse.com/2016/01/26/how-to-use-open-source-and-shut-the-fuck-up-at-the-same-time/',\n",
       "  '39',\n",
       "  '10',\n",
       "  'josep2',\n",
       "  '1/26/2016 19:30'],\n",
       " ['11964716',\n",
       "  \"Florida DJs May Face Felony for April Fools' Water Joke\",\n",
       "  'http://www.thewire.com/entertainment/2013/04/florida-djs-april-fools-water-joke/63798/',\n",
       "  '2',\n",
       "  '1',\n",
       "  'vezycash',\n",
       "  '6/23/2016 22:20'],\n",
       " ['11919867',\n",
       "  'Technology ventures: From Idea to Enterprise',\n",
       "  'https://www.amazon.com/Technology-Ventures-Enterprise-Thomas-Byers/dp/0073523429',\n",
       "  '3',\n",
       "  '1',\n",
       "  'hswarna',\n",
       "  '6/17/2016 0:01'],\n",
       " ['10301696',\n",
       "  'Note by Note: The Making of Steinway L1037 (2007)',\n",
       "  'http://www.nytimes.com/2007/11/07/movies/07stein.html?_r=0',\n",
       "  '8',\n",
       "  '2',\n",
       "  'walterbell',\n",
       "  '9/30/2015 4:12']]"
      ]
     },
     "execution_count": 7,
     "metadata": {},
     "output_type": "execute_result"
    }
   ],
   "source": [
    "hn[:5]"
   ]
  },
  {
   "cell_type": "code",
   "execution_count": 8,
   "metadata": {},
   "outputs": [],
   "source": [
    "def ask_show(lst):\n",
    "    ask_posts=[]\n",
    "    show_posts=[]\n",
    "    other_posts=[]\n",
    "    for row in lst:\n",
    "        title=row[1].lower()\n",
    "        if title.startswith('ask hn'):\n",
    "            ask_posts.append(row)\n",
    "        elif title.startswith('show hn'):\n",
    "            show_posts.append(row)\n",
    "        else:\n",
    "            other_posts.append(row)\n",
    "            \n",
    "    return ask_posts,show_posts,other_posts        "
   ]
  },
  {
   "cell_type": "code",
   "execution_count": 9,
   "metadata": {},
   "outputs": [],
   "source": [
    "ask_posts,show_posts,other_posts=ask_show(hn)"
   ]
  },
  {
   "cell_type": "code",
   "execution_count": 10,
   "metadata": {},
   "outputs": [
    {
     "name": "stdout",
     "output_type": "stream",
     "text": [
      " 1744 \n",
      " 1162 \n",
      " 17194\n"
     ]
    }
   ],
   "source": [
    "print('',len(ask_posts),'\\n',len(show_posts),'\\n',len(other_posts))"
   ]
  },
  {
   "cell_type": "code",
   "execution_count": 33,
   "metadata": {},
   "outputs": [],
   "source": [
    "def avg_counter(lst1,lst2)->int:\n",
    "    cnt1=0\n",
    "    cnt2=0\n",
    "    for i in range(len(lst1)-len(lst2)):\n",
    "        lst2.append(['','','','',0])\n",
    "    for i in range(len(lst1)):\n",
    "        comments1=int(lst1[i][4])\n",
    "        comments2=int(lst2[i][4])\n",
    "        cnt1+=comments1\n",
    "        cnt2+=comments2\n",
    "    return cnt1/len(lst1),cnt2/len(lst2)       "
   ]
  },
  {
   "cell_type": "code",
   "execution_count": 34,
   "metadata": {},
   "outputs": [],
   "source": [
    "avg_ask_comments,avg_show_comments=avg_counter(ask_posts,show_posts)"
   ]
  },
  {
   "cell_type": "code",
   "execution_count": 35,
   "metadata": {},
   "outputs": [
    {
     "name": "stdout",
     "output_type": "stream",
     "text": [
      "14.038417431192661 6.873853211009174\n"
     ]
    }
   ],
   "source": [
    "print(avg_ask_comments,avg_show_comments)"
   ]
  },
  {
   "cell_type": "markdown",
   "metadata": {},
   "source": [
    "On average the ask posts get more comments, because the people who have posted them are asking for something "
   ]
  },
  {
   "cell_type": "code",
   "execution_count": 37,
   "metadata": {},
   "outputs": [
    {
     "data": {
      "text/plain": [
       "[['id', 'title', 'url', 'num_points', 'num_comments', 'author', 'created_at']]"
      ]
     },
     "execution_count": 37,
     "metadata": {},
     "output_type": "execute_result"
    }
   ],
   "source": [
    "headers"
   ]
  },
  {
   "cell_type": "code",
   "execution_count": 38,
   "metadata": {},
   "outputs": [
    {
     "data": {
      "text/plain": [
       "[['12296411',\n",
       "  'Ask HN: How to improve my personal website?',\n",
       "  '',\n",
       "  '2',\n",
       "  '6',\n",
       "  'ahmedbaracat',\n",
       "  '8/16/2016 9:55']]"
      ]
     },
     "execution_count": 38,
     "metadata": {},
     "output_type": "execute_result"
    }
   ],
   "source": [
    "ask_posts[:1]"
   ]
  },
  {
   "cell_type": "code",
   "execution_count": 57,
   "metadata": {},
   "outputs": [],
   "source": [
    "def get_avg_comments_per_hour(lst)->dict:\n",
    "    avg_comments_per_hour={}\n",
    "    total_comments_per_hour={}\n",
    "#     lst_of_comments_and_hours=[]\n",
    "    for row in lst:\n",
    "        date=row[-1]\n",
    "        date=dt.datetime.strptime(date,\"%m/%d/%Y %H:%M\")\n",
    "        hour=date.strftime(\"%H\")\n",
    "#         lst_of_comments_and_hours.append([int(row[4]),hour])\n",
    "        if hour in total_comments_per_hour:\n",
    "            total_comments_per_hour[hour]+=int(row[4])\n",
    "        else:\n",
    "            total_comments_per_hour[hour]=int(row[4])\n",
    "\n",
    "        if hour in avg_comments_per_hour:\n",
    "            avg_comments_per_hour[hour]+=1\n",
    "        else:\n",
    "            avg_comments_per_hour[hour]=1\n",
    "\n",
    "    for k in avg_comments_per_hour:\n",
    "        avg_comments_per_hour[k]=total_comments_per_hour[k]/avg_comments_per_hour[k]\n",
    "                                       \n",
    "    return avg_comments_per_hour,total_comments_per_hour        "
   ]
  },
  {
   "cell_type": "code",
   "execution_count": 58,
   "metadata": {},
   "outputs": [],
   "source": [
    "avg_comments_per_hour,total_comments_per_hour=get_avg_comments_per_hour(ask_posts)"
   ]
  },
  {
   "cell_type": "code",
   "execution_count": 59,
   "metadata": {},
   "outputs": [
    {
     "name": "stdout",
     "output_type": "stream",
     "text": [
      "{'09': 251, '13': 1253, '10': 793, '14': 1416, '16': 1814, '23': 543, '12': 687, '17': 1146, '15': 4477, '21': 1745, '20': 1722, '02': 1381, '18': 1439, '03': 421, '05': 464, '19': 1188, '01': 683, '22': 479, '08': 492, '04': 337, '00': 447, '06': 397, '07': 267, '11': 641}\n"
     ]
    }
   ],
   "source": [
    "print(total_comments_per_hour)"
   ]
  },
  {
   "cell_type": "code",
   "execution_count": 60,
   "metadata": {},
   "outputs": [
    {
     "name": "stdout",
     "output_type": "stream",
     "text": [
      "{'09': 5.5777777777777775, '13': 14.741176470588234, '10': 13.440677966101696, '14': 13.233644859813085, '16': 16.796296296296298, '23': 7.985294117647059, '12': 9.41095890410959, '17': 11.46, '15': 38.5948275862069, '21': 16.009174311926607, '20': 21.525, '02': 23.810344827586206, '18': 13.20183486238532, '03': 7.796296296296297, '05': 10.08695652173913, '19': 10.8, '01': 11.383333333333333, '22': 6.746478873239437, '08': 10.25, '04': 7.170212765957447, '00': 8.127272727272727, '06': 9.022727272727273, '07': 7.852941176470588, '11': 11.051724137931034}\n"
     ]
    }
   ],
   "source": [
    "print(avg_comments_per_hour)"
   ]
  },
  {
   "cell_type": "code",
   "execution_count": 69,
   "metadata": {},
   "outputs": [
    {
     "name": "stdout",
     "output_type": "stream",
     "text": [
      "Top 5 hours for Ask Posts Comments\n",
      "15:00: 38.59 average comments per post\n",
      "02:00: 23.81 average comments per post\n",
      "20:00: 21.52 average comments per post\n",
      "16:00: 16.80 average comments per post\n",
      "21:00: 16.01 average comments per post\n"
     ]
    }
   ],
   "source": [
    "print(\"Top 5 hours for Ask Posts Comments\")\n",
    "# we still donno the tz but Im assuming it's New York be cause it's their main location\n",
    "for cph in sorted(avg_comments_per_hour,key=lambda x:-avg_comments_per_hour[x])[:5]:\n",
    "    hour=dt.datetime.strptime(cph,\"%H\")\n",
    "    hour=hour.strftime(\"%H:%M\")\n",
    "    print(f\"{hour}: {avg_comments_per_hour[cph]:.2f} average comments per post\")\n",
    "    "
   ]
  },
  {
   "cell_type": "markdown",
   "metadata": {},
   "source": [
    "As for the currrent state of the data set, I can say that creating a post between 21:00 and 22:00 has the highest chance of receiving comments.\n",
    "(based on the posts that received comments)"
   ]
  }
 ],
 "metadata": {
  "kernelspec": {
   "display_name": "Python 3",
   "language": "python",
   "name": "python3"
  },
  "language_info": {
   "codemirror_mode": {
    "name": "ipython",
    "version": 3
   },
   "file_extension": ".py",
   "mimetype": "text/x-python",
   "name": "python",
   "nbconvert_exporter": "python",
   "pygments_lexer": "ipython3",
   "version": "3.8.5"
  }
 },
 "nbformat": 4,
 "nbformat_minor": 2
}
