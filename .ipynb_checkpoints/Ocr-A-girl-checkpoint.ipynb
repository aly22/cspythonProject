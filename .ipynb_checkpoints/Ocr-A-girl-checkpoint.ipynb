{
 "cells": [
  {
   "cell_type": "code",
   "execution_count": 7,
   "metadata": {
    "scrolled": false
   },
   "outputs": [
    {
     "name": "stdout",
     "output_type": "stream",
     "text": [
      "08:08 5, m hw *« B SU ul 97%8\n",
      "\n",
      "K\n",
      "\n",
      "(O\n",
      "\n",
      "©. Agnieszka liked you\n",
      "\n",
      " \n",
      "\n",
      "Agnieszka, 27 O\n",
      "- fanka twórczości m. in. Tolkiena,\n",
      "Murakamiego 9\n",
      "\n",
      "- kryminały/thrillery <>LS]\n",
      "\n",
      "- astrofizyka ŚP\n",
      "\n",
      "- psychologia, psychologia relacji\n",
      "- gotowanie _/ pieczenie 63\n",
      "\n",
      "© Located in Kraków, Poland ©\n",
      "\n",
      "% College degree\n",
      "2% Doesn't have kids\n",
      "\n",
      "© English, Spanish\n",
      "\n",
      " \n",
      "\f",
      "\n"
     ]
    }
   ],
   "source": [
    "import pytesseract\n",
    "from PIL import Image\n",
    "pytesseract.pytesseract.tesseract_cmd = r\"C:\\Program Files\\Tesseract-OCR\\tesseract.exe\"\n",
    "img=Image.open(\"Screenshot_20210629-080830_Gallery.jpg\").convert('L')\n",
    "str1=pytesseract.image_to_string(img,lang='pol')\n",
    "print(str1)"
   ]
  },
  {
   "cell_type": "code",
   "execution_count": 8,
   "metadata": {},
   "outputs": [],
   "source": [
    "img.show()"
   ]
  },
  {
   "cell_type": "markdown",
   "metadata": {},
   "source": [
    "$\\frac_{hey}$"
   ]
  },
  {
   "cell_type": "code",
   "execution_count": null,
   "metadata": {},
   "outputs": [],
   "source": []
  }
 ],
 "metadata": {
  "kernelspec": {
   "display_name": "Python 3",
   "language": "python",
   "name": "python3"
  },
  "language_info": {
   "codemirror_mode": {
    "name": "ipython",
    "version": 3
   },
   "file_extension": ".py",
   "mimetype": "text/x-python",
   "name": "python",
   "nbconvert_exporter": "python",
   "pygments_lexer": "ipython3",
   "version": "3.8.5"
  }
 },
 "nbformat": 4,
 "nbformat_minor": 5
}
